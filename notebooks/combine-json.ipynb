{
 "cells": [
  {
   "cell_type": "code",
   "execution_count": null,
   "metadata": {},
   "outputs": [],
   "source": [
    "import json\n",
    "import os"
   ]
  },
  {
   "cell_type": "code",
   "execution_count": null,
   "metadata": {},
   "outputs": [],
   "source": [
    "# Paths\n",
    "base_path = \"../backend/data.nosync\"\n",
    "json_name = \"prompt-completion-pairs.json\"\n",
    "\n",
    "# Store data\n",
    "combined = []\n",
    "\n",
    "# Counter\n",
    "counter = 0\n",
    "\n",
    "# Loop through all files and subdirectories from ../backend/data.nosync/\n",
    "for dirpath, dirnames, filenames in os.walk(base_path):\n",
    "    # Skip library-jhu-edu folder\n",
    "    if \"library-jhu-edu\" in dirpath:\n",
    "        continue\n",
    "    \n",
    "    for filename in filenames:\n",
    "        # If filename is json_name, load and store\n",
    "        if filename == json_name:\n",
    "            full_path = os.path.join(dirpath, filename)\n",
    "            print(\"Loading \" + full_path)\n",
    "            with open(full_path) as f:\n",
    "                # Load each line as a JSON object\n",
    "                for line in f:\n",
    "                    data = json.loads(line.strip())\n",
    "                    # Add to combined\n",
    "                    combined.append(data)\n",
    "                    counter += 1\n",
    "\n",
    "# Save combined data\n",
    "with open(\"../backend/data.nosync/combined/prompt-completion-pairs-combined.json\", \"w\") as f:\n",
    "    print(\"\\nSaving combined data to ../backend/data.nosync/combined/prompt-completion-pairs-combined.json\")\n",
    "    print(\"Number of prompt-completion pairs: \" + str(counter))\n",
    "    json.dump(combined, f)"
   ]
  },
  {
   "cell_type": "code",
   "execution_count": null,
   "metadata": {},
   "outputs": [],
   "source": [
    "# Split the JSON file into multiple files that are <= 20 MB\n"
   ]
  }
 ],
 "metadata": {
  "kernelspec": {
   "display_name": "base",
   "language": "python",
   "name": "python3"
  },
  "language_info": {
   "codemirror_mode": {
    "name": "ipython",
    "version": 3
   },
   "file_extension": ".py",
   "mimetype": "text/x-python",
   "name": "python",
   "nbconvert_exporter": "python",
   "pygments_lexer": "ipython3",
   "version": "3.10.9"
  },
  "orig_nbformat": 4
 },
 "nbformat": 4,
 "nbformat_minor": 2
}
